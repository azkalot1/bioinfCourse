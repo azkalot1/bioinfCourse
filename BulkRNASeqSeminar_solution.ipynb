{
 "cells": [
  {
   "cell_type": "markdown",
   "metadata": {
    "collapsed": true
   },
   "source": [
    "Reference: Piasecka, E. et al. Natural variation in the parameters of innate immune cells is preferentially driven by genetic factors resource. Nat. Immunol. 19, 302-314 (2018). Piasecka, B. et al. Distinctive roles of age, sex, and genetics in shaping transcriptional variation of human immune responses to microbial challenges. Proc. Natl. Acad. Sci. 115, E488-E497 (2018). и http://www.milieuinterieur.fr/"
   ]
  },
  {
   "cell_type": "code",
   "execution_count": null,
   "metadata": {
    "collapsed": true
   },
   "outputs": [],
   "source": [
    "import pandas as pd\n",
    "import matplotlib.pyplot as plt\n",
    "import seaborn as sns\n",
    "import scipy as sc\n",
    "from statsmodels.stats.multicomp import pairwise_tukeyhsd\n",
    "import warnings\n",
    "import numpy as np\n",
    "import itertools\n",
    "from sklearn.linear_model import LinearRegression, Ridge\n",
    "from sklearn.preprocessing import scale, OneHotEncoder\n",
    "from sklearn.metrics import explained_variance_score, mean_squared_log_error, r2_score\n",
    "from sklearn.model_selection import train_test_split\n",
    "warnings.filterwarnings(\"ignore\")\n",
    "%matplotlib inline"
   ]
  },
  {
   "cell_type": "markdown",
   "metadata": {},
   "source": [
    "Данный датасет представляет собой рнк-секвенирование иммуного ответа пациентов на различные стимулы  (Escherichia coli, BCG, Staphylococcus aureus, SEB, Candida albicans and Influenza virus). В данном исследование были секвенированы 560 генов. Основная задача - оценить, насколько может быть вариабелен иммунный ответ в рамках популяции (пусть даже выборка тут небольшая)"
   ]
  },
  {
   "cell_type": "markdown",
   "metadata": {},
   "source": [
    "Первые колонки, которые в своем названии содержат MFI - это не гены, это усредненный показатель наличиние антитела Н в популяции клеток К. Например, CD38_MFI_in_Bcells  показывает уровень CD38 в B-лимфоцитах. Данные показатели и будут показывать \"уровень\" имунного ответа. Чем больше этот показатель - тем больше клеток такого типа мы наблюдаем. \n",
    "В данной работе мы сосредоточимся на следующийх генах - IFNA2 (возраст) IFNG(возраст),  MAPK14, GATA3"
   ]
  },
  {
   "cell_type": "code",
   "execution_count": null,
   "metadata": {},
   "outputs": [],
   "source": [
    "dt = pd.read_csv('dataset_merged.txt',sep='\\t')\n",
    "dt.head()"
   ]
  },
  {
   "cell_type": "markdown",
   "metadata": {},
   "source": [
    "Проведем небольшую разминку - построим графики, посмотрим на распределения, проведем тесты, посчитаем статистики. "
   ]
  },
  {
   "cell_type": "markdown",
   "metadata": {
    "collapsed": true
   },
   "source": [
    "У нас есть дополнительная информация. Самые интересные из колонок:\n",
    " - Age\n",
    " - PhysicalActivity\n",
    " - Sex\n",
    " - MetabolicScore\n",
    " - HoursOfSleep\n",
    " - UsesCannabis\n",
    " - Smoking\n",
    " - BMI\n",
    "\n",
    " Посмотрим на распределение возрастов и пола"
   ]
  },
  {
   "cell_type": "code",
   "execution_count": null,
   "metadata": {},
   "outputs": [],
   "source": [
    "metadata_columns = ['id','Age','PhysicalActivity','Sex','MetabolicScore','BMI','HoursOfSleep','UsesCannabis',\\\n",
    "                    'Smoking','Employed','Education','DustExposure']\n",
    "ids_description  = dt.drop_duplicates('id').drop(['stimulus'],axis=1)[metadata_columns]\n",
    "ids_description.head()"
   ]
  },
  {
   "cell_type": "code",
   "execution_count": null,
   "metadata": {},
   "outputs": [],
   "source": [
    "sns.pairplot(ids_description[['Age','PhysicalActivity','MetabolicScore','BMI','HoursOfSleep']]);\n",
    "plt.show()\n",
    "sns.catplot(x=\"Sex\", y=\"Age\", hue=\"Smoking\",data=ids_description,kind=\"violin\");"
   ]
  },
  {
   "cell_type": "markdown",
   "metadata": {},
   "source": [
    "В принципе, данные довольно сбалансированные. Не удивительно, ведь авторы исследования так и пытались сделать. \n",
    "Теперь начнем смотреть на экспрессии генов и их связь с возрастом\\полом\\статусом."
   ]
  },
  {
   "cell_type": "markdown",
   "metadata": {},
   "source": [
    "3.1 Сравнение экспресии IFNG у мужчин и женщин"
   ]
  },
  {
   "cell_type": "markdown",
   "metadata": {},
   "source": [
    "3.1.1 Рассмотрим распределение экспресси IFNG у женщин (со стимулом - S.aureus). На что похоже это распределение? Как это проверить? "
   ]
  },
  {
   "cell_type": "code",
   "execution_count": null,
   "metadata": {},
   "outputs": [],
   "source": [
    "mask = (dt['Sex']=='Female') & (dt['stimulus']=='S.aureus')\n",
    "sns.distplot(dt.loc[mask,'IFNG']);"
   ]
  },
  {
   "cell_type": "markdown",
   "metadata": {},
   "source": [
    "Какое удивительное нормальные распределение! Давайте проверим, что оно нормальное"
   ]
  },
  {
   "cell_type": "code",
   "execution_count": null,
   "metadata": {},
   "outputs": [],
   "source": [
    "k2, p = sc.stats.shapiro(dt.loc[mask,'IFNG'].values)\n",
    "print('p value {}'.format(p))\n",
    "sc.stats.probplot(dt.loc[mask,'IFNG'].values,plot=plt);"
   ]
  },
  {
   "cell_type": "markdown",
   "metadata": {},
   "source": [
    " Оценим параметры этого распределения."
   ]
  },
  {
   "cell_type": "code",
   "execution_count": null,
   "metadata": {},
   "outputs": [],
   "source": [
    "d_var = np.var(dt.loc[mask,'IFNG'].values)\n",
    "d_mean = np.mean(dt.loc[mask,'IFNG'].values)\n",
    "print('mean {}, var {}'.format(d_mean, d_var))"
   ]
  },
  {
   "cell_type": "markdown",
   "metadata": {},
   "source": [
    "Задача 1. Сделать аналогичные шаги для мужчин (со стимулом - S.aureus)"
   ]
  },
  {
   "cell_type": "code",
   "execution_count": null,
   "metadata": {},
   "outputs": [],
   "source": [
    "#Task 1 solution\n",
    "ax1 = plt.subplot(221)\n",
    "mask = (dt['Sex']=='Male') & (dt['stimulus']=='S.aureus')\n",
    "sns.distplot(dt.loc[mask,'IFNG'],ax=ax1);\n",
    "plt.show();\n",
    "k2, p = sc.stats.shapiro(dt.loc[mask,'IFNG'].values)\n",
    "print('p value {}'.format(p))\n",
    "d_var = np.var(dt.loc[mask,'IFNG'].values)\n",
    "d_mean = np.mean(dt.loc[mask,'IFNG'].values)\n",
    "#Funny fact - outliers ruin normaltest?\n",
    "ax2 = plt.subplot(223)\n",
    "sc.stats.probplot(dt.loc[mask,'IFNG'].values, plot=plt);\n",
    "print('mean {}, var {}'.format(d_mean, d_var))"
   ]
  },
  {
   "cell_type": "markdown",
   "metadata": {},
   "source": [
    "Задача 2. Давайте используем бустреп чтобы оценить доверительный интервал для среднего уровня экспресии гена\n",
    "GATA3 у мужчин и женщин. Используем 1000 итераций, будем семплить по 100 точек. Давайте условимся, что в этот раз работаем со стимулом E.coli"
   ]
  },
  {
   "cell_type": "code",
   "execution_count": null,
   "metadata": {},
   "outputs": [],
   "source": [
    "#Task 2 solution\n",
    "stats = {'Male':list(),'Female':list()}\n",
    "n_iterations = 1000\n",
    "n_size = 100\n",
    "def mean_confidence_interval(data, confidence=0.95):\n",
    "    a = 1.0 * np.array(data)\n",
    "    n = len(a)\n",
    "    m, se = np.mean(a), sc.stats.sem(a)\n",
    "    h = se * sc.stats.t.ppf((1 + confidence) / 2., n-1)\n",
    "    return m, m-h, m+h\n",
    "f, ax = plt.subplots(1, 2, figsize=(16, 8))\n",
    "for idx, sex in enumerate(['Male', 'Female']):\n",
    "    print('Boostrap for {}'.format(sex))\n",
    "    mask = (dt['Sex']==sex) & (dt['stimulus']=='E.coli')\n",
    "    values_expression = dt.loc[mask,'IFNG'].values\n",
    "    for i in range(n_iterations):\n",
    "    # prepare train and test sets\n",
    "        sample = np.random.choice(values_expression, size=n_size, replace=True)\n",
    "        stats[sex].append(np.mean(sample))\n",
    "    ax[idx].hist(stats[sex]);\n",
    "    ax[idx].set_title(sex)\n",
    "    m, l, h = mean_confidence_interval(stats[sex])\n",
    "    alpha = 0.95\n",
    "    print('for {}, {} confidence interval {} and {}'.format(sex, alpha*100, l, h))"
   ]
  },
  {
   "cell_type": "markdown",
   "metadata": {},
   "source": [
    "Выглядит так, будто экспрессия и правда различна. Давайте посмотрим на совместное распределение. В этом нам поможет violin plot"
   ]
  },
  {
   "cell_type": "code",
   "execution_count": null,
   "metadata": {},
   "outputs": [],
   "source": [
    "dt_subset = dt.loc[dt['stimulus']=='E.coli',:]\n",
    "sns.catplot(x=\"Sex\", y=\"IFNG\", kind=\"violin\", data=dt_subset);"
   ]
  },
  {
   "cell_type": "markdown",
   "metadata": {},
   "source": [
    "Сложно сказать однозначно... Что тут можно сделать? "
   ]
  },
  {
   "cell_type": "markdown",
   "metadata": {},
   "source": [
    "Задача 3. Проверим, является ли различие в средней экспресии IFNG у мужчин и женщин при E.coli статистически значимым.\n",
    "Каким тестом тут лучше воспользоваться и почему?  (при уровне значимости $\\alpha  = 0.05$)"
   ]
  },
  {
   "cell_type": "code",
   "execution_count": null,
   "metadata": {},
   "outputs": [],
   "source": [
    "#Task 3 solution\n",
    "_, pval = sc.stats.ttest_ind(dt_subset.loc[(dt_subset['Sex']=='Male'),'IFNG'],\n",
    "                             dt_subset.loc[(dt_subset['Sex']=='Female'),'IFNG'])\n",
    "print('pvalue is {}'.format(pval))\n",
    "if pval < 0.05 :\n",
    "    print('Yeap')\n",
    "else:\n",
    "    print('Nope')"
   ]
  },
  {
   "cell_type": "markdown",
   "metadata": {},
   "source": [
    "Задача 4. А интересно, у скольки еще генов различие в средней экспресии у мужчин и женщин при E.coli статистически значимым (при уровне значимости $\\alpha  = 0.05$). Не будем усложнять себе жизнь и воспользуемся поправкой Бонферрони"
   ]
  },
  {
   "cell_type": "code",
   "execution_count": null,
   "metadata": {},
   "outputs": [],
   "source": [
    "#Task 4 solution\n",
    "from statsmodels.sandbox.stats.multicomp import multipletests\n",
    "gene_lists = dt_subset.columns.values[210:-1]\n",
    "pvals_list = []\n",
    "for gene in gene_lists:\n",
    "    _, pval = sc.stats.ttest_ind(dt_subset.loc[dt_subset['Sex']=='Male', gene], dt_subset.loc[dt_subset['Sex']=='Female', gene])\n",
    "    pvals_list.append(pval)\n",
    "p_adjusted = multipletests(pvals_list, method='bonferroni')[1]\n",
    "passed_genes = sum(p_adjusted<0.05)\n",
    "print('{} genes are different between males and females.'.format(passed_genes))"
   ]
  },
  {
   "cell_type": "markdown",
   "metadata": {},
   "source": [
    "Отлично, но вернемся к IFNG. Добавим к рассмотрниею следующие параметры - Age, PhysicalActivity, BMI, Smoking, Education, LivesWithPartner. Как можно заметить, некоторые из них категориальные, некоторые - числовые. Тем интересней!"
   ]
  },
  {
   "cell_type": "markdown",
   "metadata": {},
   "source": [
    "Задача 5. Рассмотрите уровень экспресии IFNG (при E.coli)  в зависимости от каждого из вышеназванных параметров. \n",
    "Какой вывод можно сделать? А если дополнительно разбить с учетом пола? "
   ]
  },
  {
   "cell_type": "code",
   "execution_count": null,
   "metadata": {},
   "outputs": [],
   "source": [
    "#Task 5 solution\n",
    "fontsize=18\n",
    "subset_data = dt.loc[dt['stimulus']=='E.coli', ['Age','PhysicalActivity','BMI','Smoking','Sex',\n",
    "                                                'LivesWithPartner','Education', 'IFNG']]\n",
    "# Plot sepal with as a function of sepal_length across days\n",
    "numeric_columns  = ['Age','PhysicalActivity','BMI']\n",
    "cat_columns  = ['Smoking','LivesWithPartner','Education']\n",
    "f, ax = plt.subplots(1, len(numeric_columns), figsize=(24, 8))\n",
    "for idx, numberic_col in enumerate(numeric_columns):\n",
    "    sns.scatterplot(x=numberic_col, y=\"IFNG\", data=subset_data, ax=ax[idx])\n",
    "plt.show()\n",
    "\n",
    "f, ax = plt.subplots(1, len(cat_columns), figsize=(24, 8))    \n",
    "for idx, cat_col in enumerate(cat_columns):\n",
    "    sns.boxplot(x=cat_col, y=\"IFNG\", palette=[\"m\", \"g\"],\n",
    "            data=subset_data, ax=ax[idx])\n",
    "plt.show()    \n",
    "\n",
    "f, ax = plt.subplots(1, len(numeric_columns), figsize=(24, 8))\n",
    "for idx, numberic_col in enumerate(numeric_columns):\n",
    "    g = sns.scatterplot(x=numberic_col, y=\"IFNG\", hue=\"Sex\", data=subset_data, ax=ax[idx])\n",
    "plt.show()\n",
    "\n",
    "f, ax = plt.subplots(1, len(cat_columns), figsize=(24, 8))      \n",
    "for idx, cat_col in enumerate(cat_columns):\n",
    "    g = sns.boxplot(x=cat_col, y=\"IFNG\",\n",
    "            hue=\"Sex\", palette=[\"m\", \"g\"],\n",
    "            data=subset_data, ax=ax[idx])\n",
    "plt.show()"
   ]
  },
  {
   "cell_type": "markdown",
   "metadata": {},
   "source": [
    "Задача 6. Для того, чтобы рассматривать экспрессию между несколькими группами, нам понадобится знание диспресионного анализа. \n",
    "Проверьте, можем ли мы утверждать, что уровень экспресии IFNG не зависит от курения (без разбиения по полу) (используейте пакет $statsmodels$). Дополнительно проведите Tukey hsd чтобы оценить разницу между группами"
   ]
  },
  {
   "cell_type": "code",
   "execution_count": null,
   "metadata": {},
   "outputs": [],
   "source": [
    "#Task 6 solution\n",
    "f_value, p_value = sc.stats.f_oneway(subset_data.loc[subset_data['Smoking']=='Never','IFNG'].values,\n",
    "                                     subset_data.loc[subset_data['Smoking']=='Active','IFNG'].values, \n",
    "                                     subset_data.loc[subset_data['Smoking']=='Ex','IFNG'].values)\n",
    "print('One way anove p value {}'.format(p_value))\n",
    "print(pairwise_tukeyhsd(subset_data['IFNG'], subset_data['Smoking']))"
   ]
  },
  {
   "cell_type": "markdown",
   "metadata": {},
   "source": [
    "В последующих шагах по постараемся воспроизвести основные результаты статьи  Piasecka, E. et al. Natural variation in the parameters of innate immune cells is preferentially driven by genetic factors resource. Nat. Immunol. 19, 302-314 (2018), опубликованной в Nature Genetics. Далее мы работаем с стимулом NS, то есть с изначальным иммуным ответом."
   ]
  },
  {
   "cell_type": "code",
   "execution_count": null,
   "metadata": {
    "collapsed": true
   },
   "outputs": [],
   "source": [
    "dt_ns  = dt.loc[dt['stimulus']=='NS',:]"
   ]
  },
  {
   "cell_type": "markdown",
   "metadata": {},
   "source": [
    "Большое Задание 1. Рассмотрите зависимости между предложенными негентическими переменными в этом датасете. Для это сделаете попарные линейные модели и в качестве зависимости возьмите $R^2$. При работе с категориальными переменными, используйте OHE стратегию и используйте их только как предикторы. (Хотя в случае бинарного лейбла можно сделать логрегрессию)"
   ]
  },
  {
   "cell_type": "code",
   "execution_count": null,
   "metadata": {
    "collapsed": true
   },
   "outputs": [],
   "source": [
    "nongenetic_columns = ['Age', 'OwnsHouse',\n",
    "                      'PhysicalActivity', 'Sex', 'LivesWithPartner', 'LivesWithKids',\n",
    "                      'BornInCity', 'Inbreeding', 'BMI', 'CMVPositiveSerology', 'FluIgG',\n",
    "                      'MetabolicScore', 'LowAppetite', 'TroubleConcentrating',\n",
    "                      'TroubleSleeping', 'HoursOfSleep', 'Listless', 'UsesCannabis',\n",
    "                      'RecentPersonalCrisis', 'Smoking', 'Employed', 'Education',\n",
    "                      'DustExposure', 'Income',\n",
    "                      'DepressionScore', 'HeartRate',\n",
    "                      'Temperature']"
   ]
  },
  {
   "cell_type": "code",
   "execution_count": null,
   "metadata": {},
   "outputs": [],
   "source": [
    "#Big task 1 solution\n",
    "#make combinations of feature-outcome\n",
    "combinations =  list(itertools.permutations(nongenetic_columns, 2))\n",
    "#make zero matrix for results\n",
    "dep_matrix = np.zeros((len(nongenetic_columns),len(nongenetic_columns)))\n",
    "#self-self is 1\n",
    "np.fill_diagonal(dep_matrix, 1)\n",
    "idx_columns = dict(zip(nongenetic_columns, np.arange(len(nongenetic_columns))))\n",
    "#identify which of the columns as categorical\n",
    "cat_features = []\n",
    "for col_ in nongenetic_columns:\n",
    "    vals = dt_ns[col_].value_counts()\n",
    "    n_features = len(set(vals.index))\n",
    "    top_5_features = 100*vals.values[:5].sum()/vals.sum()\n",
    "    print('Feature {}, total features {}, top 5 account for {}'.format(col_,n_features,top_5_features))\n",
    "    if n_features<=5 or top_5_features>=96:\n",
    "        cat_features.append(col_)\n",
    "        print('Can use as category\\n')\n",
    "print('='*50)\n",
    "print(' '*20+'Making linear regression'+' '*20)\n",
    "print('='*50)\n",
    "#columns - predictors (first), rows = dependent (second)\n",
    "for pair in combinations:\n",
    "    print(pair)\n",
    "    if pair[1] in cat_features:\n",
    "        print('{} is categorical, skip as dependent'.format(pair[1]))\n",
    "        continue\n",
    "    if pair[0] in cat_features:\n",
    "        print('{} is categorical, making dummy variables'.format(pair[0]))\n",
    "        X = pd.get_dummies(dt_ns[pair[0]].astype(object))\n",
    "        y = dt_ns[pair[1]]\n",
    "        reg = LinearRegression().fit(X, y)\n",
    "        r_squared = reg.score(X,y)\n",
    "        dep_matrix[idx_columns[pair[1]],idx_columns[pair[0]]] = r_squared\n",
    "    else:\n",
    "        print('{} is numeric'.format(pair[0]))\n",
    "        X = dt_ns[pair[0]].values.reshape(-1, 1)\n",
    "        y = dt_ns[pair[1]].values\n",
    "        reg = LinearRegression().fit(X, y)\n",
    "        r_squared = reg.score(X,y)\n",
    "        dep_matrix[idx_columns[pair[1]],idx_columns[pair[0]]] = r_squared\n",
    "\n",
    "f, ax = plt.subplots(1, 1, figsize=(16, 16))\n",
    "ax.imshow(dep_matrix, cmap=\"YlGn\");\n",
    "ax.set_xticks(np.arange(len(nongenetic_columns)));\n",
    "ax.set_yticks(np.arange(len(nongenetic_columns)));\n",
    "# ... and label them with the respective list entries\n",
    "ax.set_xticklabels(nongenetic_columns);\n",
    "ax.set_yticklabels(nongenetic_columns);\n",
    "plt.setp(ax.get_xticklabels(), rotation=45, ha=\"right\",\n",
    "         rotation_mode=\"anchor\");\n",
    "for i in range(len(nongenetic_columns)):\n",
    "    for j in range(len(nongenetic_columns)):\n",
    "        text = ax.text(j, i, '%.2f' % dep_matrix[i, j],\n",
    "                       ha=\"center\", va=\"center\", color=\"k\")\n",
    "\n",
    "ax.set_title(\"Dependency matrix\")"
   ]
  },
  {
   "cell_type": "markdown",
   "metadata": {},
   "source": [
    "Большое задание 1.1. Теперь мы посмотрим на корреляцию между различными MFI. Это нужно, чтобы дальше мы взяли в работу только нескореллированные признаки"
   ]
  },
  {
   "cell_type": "code",
   "execution_count": null,
   "metadata": {
    "collapsed": true
   },
   "outputs": [],
   "source": [
    "MFI_cols = [x for x in dt_ns.columns.values if 'MFI_' in x]"
   ]
  },
  {
   "cell_type": "code",
   "execution_count": null,
   "metadata": {},
   "outputs": [],
   "source": [
    "#Big task 1.1 solution \n",
    "corr_matrix = dt_ns[MFI_cols].corr()\n",
    "corr_matrix.values[np.abs(corr_matrix.values)<0.3] = 0\n",
    "f, ax = plt.subplots(1, 1, figsize=(16, 16))\n",
    "ax.imshow(corr_matrix.values, cmap=\"YlGn\");\n",
    "ax.set_xticks(np.arange(len(MFI_cols)));\n",
    "ax.set_yticks(np.arange(len(MFI_cols)));\n",
    "# ... and label them with the respective list entries\n",
    "ax.set_xticklabels(MFI_cols);\n",
    "ax.set_yticklabels(MFI_cols);\n",
    "plt.setp(ax.get_xticklabels(), rotation=45, ha=\"right\",\n",
    "         rotation_mode=\"anchor\");\n",
    "for i in range(len(MFI_cols)):\n",
    "    for j in range(len(MFI_cols)):\n",
    "        if corr_matrix.values[i, j]>=0.9 and i!=j:\n",
    "            text = ax.text(j, i, '%.2f' % corr_matrix.values[i, j],\n",
    "                           ha=\"center\", va=\"center\", color=\"w\")\n",
    "\n",
    "ax.set_title(\"MFI correlation matrix\");\n",
    "#Select feature if only all correlation are less than 0.6  - quick and dirty \n",
    "noncorrelated_features = corr_matrix.apply(lambda x: all(x[x!=1]<0.8))\n",
    "noncorrelated_features = noncorrelated_features.index[noncorrelated_features==True].tolist()"
   ]
  },
  {
   "cell_type": "markdown",
   "metadata": {},
   "source": [
    "Большое задание 2. Теперь сделаем регресионные модели для каждого из этих показателей."
   ]
  },
  {
   "cell_type": "code",
   "execution_count": null,
   "metadata": {
    "collapsed": true
   },
   "outputs": [],
   "source": [
    "factors = ['Age', 'Sex', 'BMI', 'CMVPositiveSerology', 'MetabolicScore', 'Smoking']\n",
    "dt_ns_regres = dt_ns[factors+noncorrelated_features]"
   ]
  },
  {
   "cell_type": "code",
   "execution_count": null,
   "metadata": {},
   "outputs": [],
   "source": [
    "#scale features\n",
    "#Big task 2 solutions\n",
    "cat_features = ['Sex','CMVPositiveSerology','Smoking']\n",
    "numeric_features = ['Age','BMI','MetabolicScore']\n",
    "dt_ns_regres[numeric_features] = scale(dt_ns_regres[numeric_features])\n",
    "for col_ in cat_features:\n",
    "    dt_ns_regres[col_] = dt_ns_regres[col_].astype(object)\n",
    "X_cat = pd.get_dummies(dt_ns_regres[cat_features])\n",
    "X_cat = X_cat.drop(['Sex_Female','CMVPositiveSerology_No','Smoking_Never'],axis=1)\n",
    "X = pd.concat([X_cat, dt_ns_regres[numeric_features]],axis=1)\n",
    "Y = dt_ns_regres[noncorrelated_features]\n",
    "regress_features = X.columns.values.tolist()\n",
    "del dt_ns_regres\n",
    "for MFI_ in noncorrelated_features:\n",
    "    print('processing {}'.format(MFI_))\n",
    "    data = pd.merge(X,Y[[MFI_]], left_index=True, right_index=True)\n",
    "    data = data.dropna(axis=0)\n",
    "    #data = data.fillna(0)\n",
    "    print('Columns after dropping NA: {}'.format(data.shape[0]))\n",
    "    X_train, X_test, y_train, y_test = train_test_split(data[regress_features], data[MFI_], test_size=0.2, random_state=42)\n",
    "    reg = LinearRegression()\n",
    "    reg.fit(X_train, y_train)\n",
    "    preds = reg.predict(X_test)\n",
    "    rmsle_ = mean_squared_log_error(y_test, preds)\n",
    "    print('RMSE : {}'.format(rmsle_))"
   ]
  }
 ],
 "metadata": {
  "kernelspec": {
   "display_name": "Python 3",
   "language": "python",
   "name": "python3"
  },
  "language_info": {
   "codemirror_mode": {
    "name": "ipython",
    "version": 3
   },
   "file_extension": ".py",
   "mimetype": "text/x-python",
   "name": "python",
   "nbconvert_exporter": "python",
   "pygments_lexer": "ipython3",
   "version": "3.6.3"
  }
 },
 "nbformat": 4,
 "nbformat_minor": 2
}
